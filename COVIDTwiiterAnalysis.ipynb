{
 "cells": [
  {
   "cell_type": "markdown",
   "metadata": {},
   "source": [
    "<h1> COVID-19 Twitter Dataset Analysis </h1>\n",
    "\n",
    "**Dataset: COVID-19 Twitter Dataset with Latent Topics, Sentiments and Emotions Attributes**\n",
    "\n",
    "<br>\n",
    "<br>\n",
    "\n",
    "@author Zeezee Canning, Daniel Garcia, Chai Ratnakaram\n",
    "\n",
    "@version December 7, 2020\n"
   ]
  },
  {
   "cell_type": "markdown",
   "metadata": {},
   "source": []
  }
 ],
 "metadata": {
  "kernelspec": {
   "display_name": "Python 3",
   "language": "python",
   "name": "python3"
  },
  "language_info": {
   "codemirror_mode": {
    "name": "ipython",
    "version": 3
   },
   "file_extension": ".py",
   "mimetype": "text/x-python",
   "name": "python",
   "nbconvert_exporter": "python",
   "pygments_lexer": "ipython3",
   "version": "3.7.9"
  }
 },
 "nbformat": 4,
 "nbformat_minor": 4
}
